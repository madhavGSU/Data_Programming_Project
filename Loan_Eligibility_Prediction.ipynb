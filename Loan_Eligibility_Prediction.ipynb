{
 "cells": [
  {
   "cell_type": "code",
   "execution_count": 1,
   "metadata": {},
   "outputs": [],
   "source": [
    "import os\n",
    "import pandas as pd\n",
    "import numpy as np\n",
    "import matplotlib.pyplot as plt\n",
    "import warnings                        # To ignore any warnings\n",
    "warnings.filterwarnings(\"ignore\")\n"
   ]
  },
  {
   "cell_type": "code",
   "execution_count": 2,
   "metadata": {},
   "outputs": [],
   "source": [
    "train=pd.read_csv('train.csv')\n",
    "test=pd.read_csv('test.csv')\n",
    "\n",
    "train_original=train.copy() \n",
    "test_original=test.copy()\n",
    "\n",
    "\n",
    "categoryColumns=train.select_dtypes(include=['object']).columns\n",
    "numberColumns=train.select_dtypes(include=['int64','float64']).columns\n"
   ]
  },
  {
   "cell_type": "code",
   "execution_count": 3,
   "metadata": {},
   "outputs": [],
   "source": [
    "train['Dependents'].value_counts()\n",
    "test['Dependents'].value_counts()\n",
    "train['Loan_Status'].value_counts()\n",
    "\n",
    "train['Dependents'].replace({'3+':3}, inplace=True)\n",
    "test['Dependents'].replace({'3+':3}, inplace=True)\n",
    "\n",
    "train['Loan_Status'].replace('N', 0,inplace=True) \n",
    "train['Loan_Status'].replace('Y',1, inplace=True)\n",
    "# train[categoryColumns].isnull().sum()"
   ]
  },
  {
   "cell_type": "code",
   "execution_count": 4,
   "metadata": {},
   "outputs": [
    {
     "data": {
      "text/plain": [
       "Loan_ID           0\n",
       "Gender           13\n",
       "Married           3\n",
       "Dependents       15\n",
       "Education         0\n",
       "Self_Employed    32\n",
       "Property_Area     0\n",
       "Loan_Status       0\n",
       "dtype: int64"
      ]
     },
     "execution_count": 4,
     "metadata": {},
     "output_type": "execute_result"
    }
   ],
   "source": [
    "train[categoryColumns].isnull().sum()"
   ]
  },
  {
   "cell_type": "code",
   "execution_count": 5,
   "metadata": {},
   "outputs": [
    {
     "data": {
      "text/plain": [
       "ApplicantIncome       0\n",
       "CoapplicantIncome     0\n",
       "LoanAmount           22\n",
       "Loan_Amount_Term     14\n",
       "Credit_History       50\n",
       "dtype: int64"
      ]
     },
     "execution_count": 5,
     "metadata": {},
     "output_type": "execute_result"
    }
   ],
   "source": [
    "train[numberColumns].isnull().sum()"
   ]
  },
  {
   "cell_type": "code",
   "execution_count": 6,
   "metadata": {},
   "outputs": [],
   "source": [
    "#####Categorical Columns.\n",
    "train['Gender'].fillna(train['Gender'].mode()[0], inplace=True) \n",
    "train['Married'].fillna(train['Married'].mode()[0], inplace=True)\n",
    "train['Dependents'].fillna(train['Dependents'].mode()[0], inplace=True)\n",
    "train['Self_Employed'].fillna(train['Self_Employed'].mode()[0], inplace=True)\n",
    "train['Credit_History'].fillna(train['Credit_History'].mode()[0], inplace=True)\n",
    "\n",
    "#Number Columns.\n",
    "train['LoanAmount'].fillna(train['LoanAmount'].median(), inplace=True)\n",
    "train['Loan_Amount_Term'].fillna(train['Loan_Amount_Term'].median(), inplace=True)\n"
   ]
  },
  {
   "cell_type": "code",
   "execution_count": 7,
   "metadata": {},
   "outputs": [],
   "source": [
    "test['Gender'].fillna(train['Gender'].mode()[0], inplace=True) \n",
    "test['Dependents'].fillna(train['Dependents'].mode()[0], inplace=True)\n",
    "test['Self_Employed'].fillna(train['Self_Employed'].mode()[0], inplace=True)\n",
    "test['Credit_History'].fillna(train['Credit_History'].mode()[0], inplace=True)\n",
    "\n",
    "test['Loan_Amount_Term'].fillna(train['Loan_Amount_Term'].median(), inplace=True)\n",
    "test['LoanAmount'].fillna(train['LoanAmount'].median(), inplace=True)\n"
   ]
  },
  {
   "cell_type": "code",
   "execution_count": 8,
   "metadata": {},
   "outputs": [
    {
     "data": {
      "text/plain": [
       "(614, 13)"
      ]
     },
     "execution_count": 8,
     "metadata": {},
     "output_type": "execute_result"
    }
   ],
   "source": [
    "# train.isnull().sum()\n",
    "train.columns\n",
    "train.shape"
   ]
  },
  {
   "cell_type": "code",
   "execution_count": 9,
   "metadata": {},
   "outputs": [
    {
     "data": {
      "text/plain": [
       "<matplotlib.axes._subplots.AxesSubplot at 0x10b41d010c8>"
      ]
     },
     "execution_count": 9,
     "metadata": {},
     "output_type": "execute_result"
    },
    {
     "data": {
      "image/png": "[encoded data removed]",
      "text/plain": [
       "<Figure size 432x288 with 1 Axes>"
      ]
     },
     "metadata": {
      "needs_background": "light"
     },
     "output_type": "display_data"
    }
   ],
   "source": [
    "##Graphs.\n",
    "\n",
    "train['LoanAmount'].hist(bins=20) "
   ]
  },
  {
   "cell_type": "code",
   "execution_count": 10,
   "metadata": {},
   "outputs": [
    {
     "data": {
      "text/plain": [
       "<matplotlib.axes._subplots.AxesSubplot at 0x10b420cb808>"
      ]
     },
     "execution_count": 10,
     "metadata": {},
     "output_type": "execute_result"
    },
    {
     "data": {
      "image/png": "[encoded data removed]",
      "text/plain": [
       "<Figure size 432x288 with 1 Axes>"
      ]
     },
     "metadata": {
      "needs_background": "light"
     },
     "output_type": "display_data"
    }
   ],
   "source": [
    "# test['LoanAmount'].fillna(train['LoanAmount'].median(), inplace=True)\n",
    "train['LoanAmount'].hist(bins=20) "
   ]
  },
  {
   "cell_type": "code",
   "execution_count": 11,
   "metadata": {},
   "outputs": [
    {
     "data": {
      "text/plain": [
       "<matplotlib.axes._subplots.AxesSubplot at 0x10b43fe6f08>"
      ]
     },
     "execution_count": 11,
     "metadata": {},
     "output_type": "execute_result"
    },
    {
     "data": {
      "image/png": "[encoded data removed]",
      "text/plain": [
       "<Figure size 432x288 with 1 Axes>"
      ]
     },
     "metadata": {
      "needs_background": "light"
     },
     "output_type": "display_data"
    }
   ],
   "source": [
    "####Data Cleaning Techniques.\n",
    "train['LoanAmount_log'] = np.log(train['LoanAmount'])\n",
    "test['LoanAmount_log'] = np.log(test['LoanAmount'])\n",
    "\n",
    "import seaborn as sns\n",
    "sns.distplot(train['LoanAmount']) "
   ]
  },
  {
   "cell_type": "code",
   "execution_count": 12,
   "metadata": {},
   "outputs": [
    {
     "data": {
      "text/plain": [
       "<matplotlib.axes._subplots.AxesSubplot at 0x10b440e5ec8>"
      ]
     },
     "execution_count": 12,
     "metadata": {},
     "output_type": "execute_result"
    },
    {
     "data": {
      "image/png": "[encoded data removed]",
      "text/plain": [
       "<Figure size 432x288 with 1 Axes>"
      ]
     },
     "metadata": {
      "needs_background": "light"
     },
     "output_type": "display_data"
    }
   ],
   "source": [
    "import seaborn as sns\n",
    "sns.distplot(train['LoanAmount_log'])"
   ]
  },
  {
   "cell_type": "code",
   "execution_count": 13,
   "metadata": {},
   "outputs": [
    {
     "data": {
      "text/plain": [
       "(614, 14)"
      ]
     },
     "execution_count": 13,
     "metadata": {},
     "output_type": "execute_result"
    }
   ],
   "source": [
    "train.shape"
   ]
  },
  {
   "cell_type": "code",
   "execution_count": 14,
   "metadata": {},
   "outputs": [
    {
     "data": {
      "text/plain": [
       "(367, 13)"
      ]
     },
     "execution_count": 14,
     "metadata": {},
     "output_type": "execute_result"
    }
   ],
   "source": [
    "test.shape"
   ]
  },
  {
   "cell_type": "code",
   "execution_count": 15,
   "metadata": {},
   "outputs": [
    {
     "data": {
      "text/plain": [
       "Index(['Gender', 'Married', 'Dependents', 'Education', 'Self_Employed',\n",
       "       'ApplicantIncome', 'CoapplicantIncome', 'Loan_Amount_Term',\n",
       "       'Credit_History', 'Property_Area', 'Loan_Status', 'LoanAmount_log'],\n",
       "      dtype='object')"
      ]
     },
     "execution_count": 15,
     "metadata": {},
     "output_type": "execute_result"
    }
   ],
   "source": [
    "test=test.drop(['Loan_ID','LoanAmount'],axis=1)\n",
    "train=train.drop(['Loan_ID','LoanAmount'],axis=1) \n",
    "train.columns"
   ]
  },
  {
   "cell_type": "code",
   "execution_count": 16,
   "metadata": {},
   "outputs": [
    {
     "data": {
      "text/plain": [
       "(614, 12)"
      ]
     },
     "execution_count": 16,
     "metadata": {},
     "output_type": "execute_result"
    }
   ],
   "source": [
    "train.shape"
   ]
  },
  {
   "cell_type": "code",
   "execution_count": 17,
   "metadata": {},
   "outputs": [
    {
     "data": {
      "text/plain": [
       "(367, 11)"
      ]
     },
     "execution_count": 17,
     "metadata": {},
     "output_type": "execute_result"
    }
   ],
   "source": [
    "test.shape"
   ]
  },
  {
   "cell_type": "code",
   "execution_count": 18,
   "metadata": {},
   "outputs": [
    {
     "data": {
      "text/plain": [
       "(614, 11)"
      ]
     },
     "execution_count": 18,
     "metadata": {},
     "output_type": "execute_result"
    }
   ],
   "source": [
    "features = train.drop('Loan_Status',1) \n",
    "target= train.Loan_Status\n",
    "features.shape"
   ]
  },
  {
   "cell_type": "code",
   "execution_count": 19,
   "metadata": {},
   "outputs": [
    {
     "name": "stdout",
     "output_type": "stream",
     "text": [
      "(614, 11)\n"
     ]
    }
   ],
   "source": [
    "############Converts Non-Integer features to integer features.\n",
    "print(features.shape)\n",
    "features=pd.get_dummies(features) \n",
    "train=pd.get_dummies(train) \n",
    "test=pd.get_dummies(test)"
   ]
  },
  {
   "cell_type": "code",
   "execution_count": 20,
   "metadata": {},
   "outputs": [
    {
     "data": {
      "text/plain": [
       "(614, 20)"
      ]
     },
     "execution_count": 20,
     "metadata": {},
     "output_type": "execute_result"
    }
   ],
   "source": [
    "features.shape"
   ]
  },
  {
   "cell_type": "code",
   "execution_count": 21,
   "metadata": {},
   "outputs": [],
   "source": [
    "############Splitting the Data into Train and Test Data.\n",
    "from sklearn.model_selection import train_test_split\n",
    "\n",
    "trainFeatures, testFeatures, trainTarget, testTarget = train_test_split(features,target, test_size =0.3)\n"
   ]
  },
  {
   "cell_type": "code",
   "execution_count": 22,
   "metadata": {},
   "outputs": [],
   "source": [
    "from sklearn.model_selection import StratifiedKFold\n"
   ]
  },
  {
   "cell_type": "code",
   "execution_count": 23,
   "metadata": {},
   "outputs": [],
   "source": [
    "kFold = StratifiedKFold(n_splits=10,random_state=1,shuffle=True)\n",
    "# target.shape"
   ]
  },
  {
   "cell_type": "code",
   "execution_count": 24,
   "metadata": {},
   "outputs": [],
   "source": [
    "##########################Feature Engineering.#############################\n",
    "######Adding new features that might affect the final result.\n",
    "\n",
    "#####Adding Total income which is sum of Applicant Income and Coapplicant Income.\n",
    "train['TotalIncome']=train['ApplicantIncome']+train['CoapplicantIncome']\n",
    "test['TotalIncome']=test['ApplicantIncome']+test['CoapplicantIncome']\n"
   ]
  },
  {
   "cell_type": "code",
   "execution_count": 25,
   "metadata": {},
   "outputs": [
    {
     "data": {
      "text/plain": [
       "<matplotlib.axes._subplots.AxesSubplot at 0x10b44a49f08>"
      ]
     },
     "execution_count": 25,
     "metadata": {},
     "output_type": "execute_result"
    },
    {
     "data": {
      "image/png": "[encoded data removed]",
      "text/plain": [
       "<Figure size 432x288 with 1 Axes>"
      ]
     },
     "metadata": {
      "needs_background": "light"
     },
     "output_type": "display_data"
    }
   ],
   "source": [
    "import seaborn as sns;\n",
    "\n",
    "sns.distplot(train['TotalIncome'])"
   ]
  },
  {
   "cell_type": "code",
   "execution_count": 26,
   "metadata": {},
   "outputs": [
    {
     "data": {
      "text/plain": [
       "<matplotlib.axes._subplots.AxesSubplot at 0x10b44b25908>"
      ]
     },
     "execution_count": 26,
     "metadata": {},
     "output_type": "execute_result"
    },
    {
     "data": {
      "image/png": "[encoded data removed]",
      "text/plain": [
       "<Figure size 432x288 with 1 Axes>"
      ]
     },
     "metadata": {
      "needs_background": "light"
     },
     "output_type": "display_data"
    }
   ],
   "source": [
    "train['TotalIncomeLog']=np.log(train['TotalIncome']);\n",
    "test['TotalIncomeLog']=np.log(test['TotalIncome']);\n",
    "sns.distplot(train['TotalIncomeLog'])"
   ]
  },
  {
   "cell_type": "code",
   "execution_count": 27,
   "metadata": {},
   "outputs": [],
   "source": [
    "#############Setting up EMI column.##########################\n",
    "# Since, we dropped LoanAmount column, we get it form copy of the train data.\n",
    "train_original['LoanAmount'].fillna(train_original['LoanAmount'].median(), inplace=True)\n",
    "test_original['LoanAmount'].fillna(test_original['LoanAmount'].median(), inplace=True)\n"
   ]
  },
  {
   "cell_type": "code",
   "execution_count": 28,
   "metadata": {},
   "outputs": [
    {
     "data": {
      "text/plain": [
       "Index(['ApplicantIncome', 'CoapplicantIncome', 'Loan_Amount_Term',\n",
       "       'Credit_History', 'Loan_Status', 'LoanAmount_log', 'Gender_Female',\n",
       "       'Gender_Male', 'Married_No', 'Married_Yes', 'Dependents_3',\n",
       "       'Dependents_0', 'Dependents_1', 'Dependents_2', 'Education_Graduate',\n",
       "       'Education_Not Graduate', 'Self_Employed_No', 'Self_Employed_Yes',\n",
       "       'Property_Area_Rural', 'Property_Area_Semiurban', 'Property_Area_Urban',\n",
       "       'TotalIncome', 'TotalIncomeLog', 'EMI'],\n",
       "      dtype='object')"
      ]
     },
     "execution_count": 28,
     "metadata": {},
     "output_type": "execute_result"
    }
   ],
   "source": [
    "train['EMI']=train_original['LoanAmount']/train_original['Loan_Amount_Term']\n",
    "test['EMI']=test_original['LoanAmount']/test_original['Loan_Amount_Term']\n",
    "train.columns"
   ]
  },
  {
   "cell_type": "code",
   "execution_count": 29,
   "metadata": {},
   "outputs": [
    {
     "data": {
      "text/plain": [
       "14"
      ]
     },
     "execution_count": 29,
     "metadata": {},
     "output_type": "execute_result"
    }
   ],
   "source": [
    "train['EMI'].isnull().sum()"
   ]
  },
  {
   "cell_type": "code",
   "execution_count": 30,
   "metadata": {},
   "outputs": [
    {
     "data": {
      "text/plain": [
       "6"
      ]
     },
     "execution_count": 30,
     "metadata": {},
     "output_type": "execute_result"
    }
   ],
   "source": [
    "test['EMI'].isnull().sum()"
   ]
  },
  {
   "cell_type": "code",
   "execution_count": 31,
   "metadata": {},
   "outputs": [],
   "source": [
    "#############Filling the NULL values in the train and test date sets.##############################\n",
    "train['EMI'].fillna(train['EMI'].median(), inplace=True)\n",
    "test['EMI'].fillna(test['EMI'].median(), inplace=True)"
   ]
  },
  {
   "cell_type": "code",
   "execution_count": 32,
   "metadata": {},
   "outputs": [],
   "source": [
    "#############################Setting up the Balance Income column.###################################\n",
    "# Multiply EMI column with 1000 to make the units equal \n",
    "train['Balance Income']=train['TotalIncome']-(train['EMI']*1000) \n",
    "test['Balance Income']=test['TotalIncome']-(test['EMI']*1000)"
   ]
  },
  {
   "cell_type": "code",
   "execution_count": 33,
   "metadata": {},
   "outputs": [],
   "source": [
    "############Since the newly created features have high correlation with features from which these are created.We remove the \n",
    "###################old columns. As, in Regression Analysis, we assume features are independent.\n",
    "\n",
    "train=train.drop(['ApplicantIncome', 'CoapplicantIncome',  'Loan_Amount_Term'], axis=1) \n",
    "test=test.drop(['ApplicantIncome', 'CoapplicantIncome',  'Loan_Amount_Term'], axis=1)"
   ]
  },
  {
   "cell_type": "code",
   "execution_count": 34,
   "metadata": {},
   "outputs": [
    {
     "data": {
      "text/plain": [
       "(367, 21)"
      ]
     },
     "execution_count": 34,
     "metadata": {},
     "output_type": "execute_result"
    }
   ],
   "source": [
    "test.shape\n",
    "###########################################Data Analysis.#################################################"
   ]
  },
  {
   "cell_type": "code",
   "execution_count": 35,
   "metadata": {},
   "outputs": [
    {
     "name": "stdout",
     "output_type": "stream",
     "text": [
      "5416.5\n"
     ]
    },
    {
     "data": {
      "image/png": "[encoded data removed]",
      "text/plain": [
       "<Figure size 432x288 with 1 Axes>"
      ]
     },
     "metadata": {
      "needs_background": "light"
     },
     "output_type": "display_data"
    }
   ],
   "source": [
    "###############################Box Diagram indicating outliers in the TotalIncome.###############################\n",
    "import seaborn as snb;\n",
    "print(train['TotalIncome'].median())\n",
    "boxplot=train.boxplot(column=['TotalIncome'])"
   ]
  },
  {
   "cell_type": "code",
   "execution_count": 36,
   "metadata": {},
   "outputs": [
    {
     "name": "stdout",
     "output_type": "stream",
     "text": [
      "Index(['Credit_History', 'Loan_Status', 'LoanAmount_log', 'Gender_Female',\n",
      "       'Gender_Male', 'Married_No', 'Married_Yes', 'Dependents_3',\n",
      "       'Dependents_0', 'Dependents_1', 'Dependents_2', 'Education_Graduate',\n",
      "       'Education_Not Graduate', 'Self_Employed_No', 'Self_Employed_Yes',\n",
      "       'Property_Area_Rural', 'Property_Area_Semiurban', 'Property_Area_Urban',\n",
      "       'TotalIncome', 'TotalIncomeLog', 'EMI', 'Balance Income'],\n",
      "      dtype='object')\n"
     ]
    },
    {
     "data": {
      "image/png": "[encoded data removed]",
      "text/plain": [
       "<Figure size 720x720 with 1 Axes>"
      ]
     },
     "metadata": {
      "needs_background": "light"
     },
     "output_type": "display_data"
    }
   ],
   "source": [
    "diagFrame=pd.DataFrame(columns=['TotalIncome', 'True', 'False', 'TotalApplicants']);\n",
    "print(train.columns)\n",
    "for x in range(0,60000, 5000):\n",
    "    filt=(train['TotalIncome']>x)\n",
    "    total=filt.sum();\n",
    "    \n",
    "    filt2=((train['TotalIncome']>x) & (train['Loan_Status']==1));\n",
    "    yes=filt2.sum()\n",
    "    diagFrame=diagFrame.append({'TotalIncome': x, 'True': float(yes)/total, 'False': total-yes, 'TotalApplicants': total}, ignore_index=True)\n",
    "diagFrame\n",
    "\n",
    "import seaborn as sns\n",
    "sns.factorplot(x='TotalIncome', y='True', size=10, data=diagFrame);"
   ]
  },
  {
   "cell_type": "code",
   "execution_count": 37,
   "metadata": {},
   "outputs": [],
   "source": [
    "##############Since, we have done data Cleaning and Feature Engineering. We can train and test some models.#################\n",
    "## Planned Models are: \n",
    "## Logistic Regression\n",
    "## Decision Tree\n",
    "## Random Forest\n",
    "## KNN\n",
    "\n"
   ]
  },
  {
   "cell_type": "code",
   "execution_count": 38,
   "metadata": {},
   "outputs": [],
   "source": [
    "features2=train.drop('Loan_Status', axis=1)\n",
    "target2=train['Loan_Status']"
   ]
  },
  {
   "cell_type": "code",
   "execution_count": 39,
   "metadata": {},
   "outputs": [
    {
     "data": {
      "text/plain": [
       "Index(['Credit_History', 'LoanAmount_log', 'Gender_Female', 'Gender_Male',\n",
       "       'Married_No', 'Married_Yes', 'Dependents_3', 'Dependents_0',\n",
       "       'Dependents_1', 'Dependents_2', 'Education_Graduate',\n",
       "       'Education_Not Graduate', 'Self_Employed_No', 'Self_Employed_Yes',\n",
       "       'Property_Area_Rural', 'Property_Area_Semiurban', 'Property_Area_Urban',\n",
       "       'TotalIncome', 'TotalIncomeLog', 'EMI', 'Balance Income'],\n",
       "      dtype='object')"
      ]
     },
     "execution_count": 39,
     "metadata": {},
     "output_type": "execute_result"
    }
   ],
   "source": [
    "features2.columns"
   ]
  },
  {
   "cell_type": "code",
   "execution_count": 40,
   "metadata": {},
   "outputs": [
    {
     "name": "stdout",
     "output_type": "stream",
     "text": [
      "The confusion matrix is: \n",
      "[[16 23]\n",
      " [ 1 84]]\n",
      "score is:  0.875\n",
      "The confusion matrix is: \n",
      "[[19 20]\n",
      " [ 4 81]]\n",
      "score is:  0.8709677419354839\n",
      "The confusion matrix is: \n",
      "[[15 23]\n",
      " [ 1 83]]\n",
      "score is:  0.8736842105263158\n",
      "The confusion matrix is: \n",
      "[[14 24]\n",
      " [ 1 83]]\n",
      "score is:  0.8691099476439791\n",
      "The confusion matrix is: \n",
      "[[18 20]\n",
      " [ 0 84]]\n",
      "score is:  0.8936170212765957\n",
      "The mean f1 score obtained over all runs is:  0.876475784276475\n",
      "The max f1 score obtained over all runs is:  0.8936170212765957\n",
      "              precision    recall  f1-score   support\n",
      "\n",
      "           0       1.00      0.47      0.64        38\n",
      "           1       0.81      1.00      0.89        84\n",
      "\n",
      "    accuracy                           0.84       122\n",
      "   macro avg       0.90      0.74      0.77       122\n",
      "weighted avg       0.87      0.84      0.82       122\n",
      "\n"
     ]
    }
   ],
   "source": [
    "#########################Logistic Regression.##################################\n",
    "from sklearn.metrics import classification_report, confusion_matrix\n",
    "from sklearn.linear_model import LogisticRegression\n",
    "from sklearn.metrics import f1_score\n",
    "\n",
    "scores=pd.Series([])\n",
    "kFold = StratifiedKFold(n_splits=5,random_state=1,shuffle=True) \n",
    "\n",
    "for trainIndex, testIndex in kFold.split(features2, target2):\n",
    "    xTrain, xTest=features2.loc[trainIndex], features2.loc[testIndex];\n",
    "    yTrain, yTest=target2[trainIndex], target2[testIndex]\n",
    "    model=LogisticRegression(random_state=1)\n",
    "    model.fit(xTrain,yTrain)\n",
    "    predTest=model.predict(xTest)\n",
    "    score=f1_score(yTest, predTest, average='binary')\n",
    "    print(\"The confusion matrix is: \")\n",
    "    print(confusion_matrix(yTest, predTest))\n",
    "    scores=scores.append(pd.Series(score))\n",
    "    print(\"score is: \", score)\n",
    "    \n",
    "#     predPracTest=model.predict_proba(test)[:, 1] ## Gives a 2d numpy array, each row has prob. for No, Yes resp.\n",
    "    predPracTest=model.predict(test)\n",
    "#     print(type(predPracTest))\n",
    "\n",
    "print(\"The mean f1 score obtained over all runs is: \", scores.mean());\n",
    "print(\"The max f1 score obtained over all runs is: \", scores.max());\n",
    "print(classification_report(yTest, predTest))"
   ]
  },
  {
   "cell_type": "code",
   "execution_count": 41,
   "metadata": {},
   "outputs": [],
   "source": [
    "predictedFrame=pd.DataFrame()\n",
    "predictedFrame['LoanStatus']=predPracTest\n",
    "predictedFrame['Loan_ID']=test_original['Loan_ID']\n"
   ]
  },
  {
   "cell_type": "code",
   "execution_count": 42,
   "metadata": {},
   "outputs": [],
   "source": [
    "predictedFrame['LoanStatus'].value_counts()\n",
    "predictedFrame['LoanStatus'].replace({0:'N', 1:'Y'}, inplace=True)\n",
    "predictedFrame['LoanStatus'].value_counts()\n",
    "\n",
    "\n",
    "\n",
    "##########Converts probabilities to Yes/No.############\n",
    "# filt=predictedFrame['LoanStatus']>=0.5\n",
    "# predictedFrame.loc[filt,'LoanStatus2']=['Y']\n",
    "# predictedFrame.loc[~filt,'LoanStatus2']=['N']\n",
    "# predictedFrame['LoanStatus2']=predictedFrame.apply(lambda row: 'Y' if(row.'LoanStatus'>0.5) else 'N');\n",
    "# pd.DataFrame(predictedFrame, columns=['Loan_ID', 'LoanStatus', 'LoanStatus2']).to_csv('LogReg.csv')\n",
    "\n",
    "\n",
    "\n",
    "\n",
    "########Writing the Pandas DataFrame into a csv file.##################\n",
    "pd.DataFrame(predictedFrame, columns=['Loan_ID', 'LoanStatus']).to_csv('predLogisticReg.csv')"
   ]
  },
  {
   "cell_type": "code",
   "execution_count": 43,
   "metadata": {},
   "outputs": [
    {
     "name": "stdout",
     "output_type": "stream",
     "text": [
      "The confusion matrix is: \n",
      "[[26 13]\n",
      " [16 69]]\n",
      "score is:  0.8263473053892215\n",
      "The confusion matrix is: \n",
      "[[25 14]\n",
      " [15 70]]\n",
      "score is:  0.8284023668639053\n",
      "The confusion matrix is: \n",
      "[[20 18]\n",
      " [17 67]]\n",
      "score is:  0.7928994082840236\n",
      "The confusion matrix is: \n",
      "[[21 17]\n",
      " [20 64]]\n",
      "score is:  0.7757575757575756\n",
      "The confusion matrix is: \n",
      "[[21 17]\n",
      " [19 65]]\n",
      "score is:  0.783132530120482\n",
      "The mean f1 score obtained over all runs is:  0.8013078372830416\n",
      "The max f1 score obtained over all runs is:  0.8284023668639053\n",
      "              precision    recall  f1-score   support\n",
      "\n",
      "           0       0.53      0.55      0.54        38\n",
      "           1       0.79      0.77      0.78        84\n",
      "\n",
      "    accuracy                           0.70       122\n",
      "   macro avg       0.66      0.66      0.66       122\n",
      "weighted avg       0.71      0.70      0.71       122\n",
      "\n"
     ]
    }
   ],
   "source": [
    "#####################################Decision Tree.#########################################\n",
    "from sklearn import tree\n",
    "from sklearn.metrics import classification_report, confusion_matrix\n",
    "\n",
    "\n",
    "scores=pd.Series([])\n",
    "\n",
    "for trainIndex, testIndex in kFold.split(features2, target2):\n",
    "    xTrain, xTest=features2.loc[trainIndex], features2.loc[testIndex];\n",
    "    yTrain, yTest=target2[trainIndex], target2[testIndex]\n",
    "    model=tree.DecisionTreeClassifier(random_state=1)\n",
    "    model.fit(xTrain,yTrain)\n",
    "    predTest=model.predict(xTest)\n",
    "    score=f1_score(yTest, predTest, average='binary')\n",
    "    print(\"The confusion matrix is: \")\n",
    "    print(confusion_matrix(yTest, predTest))\n",
    "    scores=scores.append(pd.Series(score))\n",
    "    print(\"score is: \", score)\n",
    "    \n",
    "    ###############################Predicting the Loan Status for the test data.###########################\n",
    "    treePrediction=model.predict(test)\n",
    "    \n",
    "print(\"The mean f1 score obtained over all runs is: \", scores.mean());\n",
    "print(\"The max f1 score obtained over all runs is: \", scores.max());\n",
    "print(classification_report(yTest, predTest))"
   ]
  },
  {
   "cell_type": "code",
   "execution_count": 44,
   "metadata": {},
   "outputs": [],
   "source": [
    "treePredictionFrame=pd.DataFrame()\n",
    "treePredictionFrame['LoanStatus']=treePrediction\n",
    "treePredictionFrame['Loan_ID']=test_original['Loan_ID']\n",
    "\n",
    "treePredictionFrame['LoanStatus'].value_counts()\n",
    "treePredictionFrame['LoanStatus'].replace({1:'Y', 0:'N'}, inplace=True)\n",
    "# print(treePredictionFrame['LoanStatus'].value_counts())\n",
    "\n",
    "\n",
    "\n",
    "########Writing the Pandas DataFrame into a csv file.##################\n",
    "pd.DataFrame(treePredictionFrame, columns=['Loan_ID', 'LoanStatus']).to_csv('predDecisionTree.csv')"
   ]
  },
  {
   "cell_type": "code",
   "execution_count": 45,
   "metadata": {},
   "outputs": [
    {
     "name": "stderr",
     "output_type": "stream",
     "text": [
      "C:\\Users\\haris\\Anaconda3\\lib\\site-packages\\sklearn\\model_selection\\_search.py:814: DeprecationWarning: The default of the `iid` parameter will change from True to False in version 0.22 and will be removed in 0.24. This will change numeric results when test-set sizes are unequal.\n",
      "  DeprecationWarning)\n"
     ]
    },
    {
     "data": {
      "text/plain": [
       "GridSearchCV(cv='warn', error_score='raise-deprecating',\n",
       "             estimator=RandomForestClassifier(bootstrap=True, class_weight=None,\n",
       "                                              criterion='gini', max_depth=None,\n",
       "                                              max_features='auto',\n",
       "                                              max_leaf_nodes=None,\n",
       "                                              min_impurity_decrease=0.0,\n",
       "                                              min_impurity_split=None,\n",
       "                                              min_samples_leaf=1,\n",
       "                                              min_samples_split=2,\n",
       "                                              min_weight_fraction_leaf=0.0,\n",
       "                                              n_estimators='warn', n_jobs=None,\n",
       "                                              oob_score=False, random_state=1,\n",
       "                                              verbose=0, warm_start=False),\n",
       "             iid='warn', n_jobs=None,\n",
       "             param_grid={'max_depth': [1, 3, 5, 7, 9, 11, 13, 15, 17, 19],\n",
       "                         'n_estimators': [1, 21, 41, 61, 81, 101, 121, 141, 161,\n",
       "                                          181]},\n",
       "             pre_dispatch='2*n_jobs', refit=True, return_train_score=False,\n",
       "             scoring=None, verbose=0)"
      ]
     },
     "execution_count": 45,
     "metadata": {},
     "output_type": "execute_result"
    }
   ],
   "source": [
    "##########################################Random Forest.################################################\n",
    "\n",
    "from sklearn.ensemble import RandomForestClassifier\n",
    "from sklearn.model_selection import GridSearchCV\n",
    "\n",
    "paramgrid = {'max_depth': list(range(1, 20, 2)), 'n_estimators': list(range(1, 200, 20))}\n",
    "gridSearch=GridSearchCV(RandomForestClassifier(random_state=1),paramgrid)\n",
    "\n",
    "\n",
    "from sklearn.model_selection import train_test_split \n",
    "xTrain, xTest, yTrain, yTest = train_test_split(features2,target2, test_size =0.3, random_state=1)\n",
    "\n",
    "# Fit the grid search model \n",
    "gridSearch.fit(xTrain,yTrain)"
   ]
  },
  {
   "cell_type": "code",
   "execution_count": 46,
   "metadata": {},
   "outputs": [
    {
     "name": "stdout",
     "output_type": "stream",
     "text": [
      "{'bootstrap': True, 'class_weight': None, 'criterion': 'gini', 'max_depth': 3, 'max_features': 'auto', 'max_leaf_nodes': None, 'min_impurity_decrease': 0.0, 'min_impurity_split': None, 'min_samples_leaf': 1, 'min_samples_split': 2, 'min_weight_fraction_leaf': 0.0, 'n_estimators': 141, 'n_jobs': None, 'oob_score': False, 'random_state': 1, 'verbose': 0, 'warm_start': False}\n"
     ]
    }
   ],
   "source": [
    "print((gridSearch.best_estimator_.get_params()))\n",
    "depth=gridSearch.best_estimator_.get_params()['max_depth']\n",
    "estimators=gridSearch.best_estimator_.get_params()['n_estimators']"
   ]
  },
  {
   "cell_type": "code",
   "execution_count": 47,
   "metadata": {},
   "outputs": [
    {
     "name": "stdout",
     "output_type": "stream",
     "text": [
      "The confusion matrix is: \n",
      "[[17 22]\n",
      " [ 1 84]]\n",
      "The confusion matrix is: \n",
      "[[19 20]\n",
      " [ 5 80]]\n",
      "The confusion matrix is: \n",
      "[[15 23]\n",
      " [ 2 82]]\n",
      "The confusion matrix is: \n",
      "[[15 23]\n",
      " [ 2 82]]\n",
      "The confusion matrix is: \n",
      "[[19 19]\n",
      " [ 0 84]]\n",
      "The mean f1 score obtained over all runs is:  0.8756582948144389\n",
      "The max f1 score obtained over all runs is:  0.8983957219251336\n",
      "              precision    recall  f1-score   support\n",
      "\n",
      "           0       1.00      0.50      0.67        38\n",
      "           1       0.82      1.00      0.90        84\n",
      "\n",
      "    accuracy                           0.84       122\n",
      "   macro avg       0.91      0.75      0.78       122\n",
      "weighted avg       0.87      0.84      0.83       122\n",
      "\n"
     ]
    }
   ],
   "source": [
    "from sklearn.metrics import classification_report, confusion_matrix\n",
    "\n",
    "kFold = StratifiedKFold(n_splits=5,random_state=1,shuffle=True) \n",
    "scores=pd.Series([])\n",
    "for trainIndex, testIndex in kFold.split(features2, target2):\n",
    "    xTrain, xTest=features2.loc[trainIndex], features2.loc[testIndex];\n",
    "    yTrain, yTest=target2[trainIndex], target2[testIndex]\n",
    "    model=RandomForestClassifier(random_state=1, max_depth=depth, n_estimators=estimators)\n",
    "    model.fit(xTrain, yTrain)\n",
    "    predTest=model.predict(xTest)\n",
    "    score=f1_score(yTest, predTest, average='binary')\n",
    "    print(\"The confusion matrix is: \")\n",
    "    print(confusion_matrix(yTest, predTest))\n",
    "    scores=scores.append(pd.Series(score))\n",
    "    \n",
    "    forestPrediction=model.predict(test);\n",
    "    \n",
    "\n",
    "\n",
    "    \n",
    "print(\"The mean f1 score obtained over all runs is: \", scores.mean());\n",
    "print(\"The max f1 score obtained over all runs is: \", scores.max());\n",
    "print(classification_report(yTest, predTest))"
   ]
  },
  {
   "cell_type": "code",
   "execution_count": 48,
   "metadata": {},
   "outputs": [],
   "source": [
    "treePredictionFrame['LoanStatus']=forestPrediction\n",
    "treePredictionFrame['LoanStatus'].replace({1:'Y', 0:'N'}, inplace=True)\n",
    "\n",
    "########Writing the Pandas DataFrame into a csv file.##################\n",
    "pd.DataFrame(treePredictionFrame, columns=['Loan_ID', 'LoanStatus']).to_csv('predRandomForest.csv')"
   ]
  },
  {
   "cell_type": "code",
   "execution_count": 49,
   "metadata": {},
   "outputs": [
    {
     "data": {
      "text/plain": [
       "<matplotlib.axes._subplots.AxesSubplot at 0x10b45432f08>"
      ]
     },
     "execution_count": 49,
     "metadata": {},
     "output_type": "execute_result"
    },
    {
     "data": {
      "image/png": "[encoded data removed]",
      "text/plain": [
       "<Figure size 864x576 with 1 Axes>"
      ]
     },
     "metadata": {
      "needs_background": "light"
     },
     "output_type": "display_data"
    }
   ],
   "source": [
    "importances=pd.Series(model.feature_importances_, index=features2.columns) \n",
    "importances.plot(kind='barh', figsize=(12,8))\n",
    "######As credit history has highest importance, our feature engineering has helped us in predictions."
   ]
  },
  {
   "cell_type": "code",
   "execution_count": 50,
   "metadata": {},
   "outputs": [
    {
     "name": "stdout",
     "output_type": "stream",
     "text": [
      "The confusion matrix is: \n",
      "[[ 4 35]\n",
      " [10 75]]\n",
      "The confusion matrix is: \n",
      "[[ 6 33]\n",
      " [13 72]]\n",
      "The confusion matrix is: \n",
      "[[ 9 29]\n",
      " [15 69]]\n",
      "The confusion matrix is: \n",
      "[[ 6 32]\n",
      " [15 69]]\n",
      "The confusion matrix is: \n",
      "[[11 27]\n",
      " [ 8 76]]\n",
      "The mean f1 score obtained over all runs is:  0.7688294869719019\n",
      "The max f1 score obtained over all runs is:  0.8128342245989305\n",
      "              precision    recall  f1-score   support\n",
      "\n",
      "           0       0.58      0.29      0.39        38\n",
      "           1       0.74      0.90      0.81        84\n",
      "\n",
      "    accuracy                           0.71       122\n",
      "   macro avg       0.66      0.60      0.60       122\n",
      "weighted avg       0.69      0.71      0.68       122\n",
      "\n"
     ]
    }
   ],
   "source": [
    "################################KNN Classifier#####################################\n",
    "\n",
    "from sklearn.neighbors import KNeighborsClassifier\n",
    "from sklearn.model_selection import train_test_split\n",
    "from sklearn.metrics import classification_report, confusion_matrix\n",
    "xTrain, xTest, yTrain, yTest = train_test_split(features2,target2, test_size =0.3, random_state=1)\n",
    "scores=pd.Series([])\n",
    "\n",
    "for trainIndex, testIndex in kFold.split(features2, target2):\n",
    "    xTrain, xTest=features2.loc[trainIndex], features2.loc[testIndex];\n",
    "    yTrain, yTest=target2[trainIndex], target2[testIndex]\n",
    "    neigh=KNeighborsClassifier(n_neighbors=5)\n",
    "    neigh.fit(xTrain, yTrain)\n",
    "    predTest=neigh.predict(xTest)\n",
    "    score=f1_score(yTest, predTest, average='binary')\n",
    "    print(\"The confusion matrix is: \")\n",
    "    print(confusion_matrix(yTest, predTest))\n",
    "    scores=scores.append(pd.Series(score))\n",
    "    \n",
    "    knnPrediction=neigh.predict(test);\n",
    "    \n",
    "    \n",
    "print(\"The mean f1 score obtained over all runs is: \", scores.mean());\n",
    "print(\"The max f1 score obtained over all runs is: \", scores.max());\n",
    "print(classification_report(yTest, predTest))"
   ]
  },
  {
   "cell_type": "code",
   "execution_count": 51,
   "metadata": {},
   "outputs": [],
   "source": [
    "treePredictionFrame['LoanStatus']=knnPrediction\n",
    "treePredictionFrame['LoanStatus'].replace({1:'Y', 0:'N'}, inplace=True)\n",
    "\n",
    "########Writing the Pandas DataFrame into a csv file.##################\n",
    "pd.DataFrame(treePredictionFrame, columns=['Loan_ID', 'LoanStatus']).to_csv('predKNNNeigh.csv')"
   ]
  },
  {
   "cell_type": "code",
   "execution_count": null,
   "metadata": {},
   "outputs": [],
   "source": []
  }
 ],
 "metadata": {
  "kernelspec": {
   "display_name": "Python 3",
   "language": "python",
   "name": "python3"
  },
  "language_info": {
   "codemirror_mode": {
    "name": "ipython",
    "version": 3
   },
   "file_extension": ".py",
   "mimetype": "text/x-python",
   "name": "python",
   "nbconvert_exporter": "python",
   "pygments_lexer": "ipython3",
   "version": "3.7.4"
  }
 },
 "nbformat": 4,
 "nbformat_minor": 2
}
